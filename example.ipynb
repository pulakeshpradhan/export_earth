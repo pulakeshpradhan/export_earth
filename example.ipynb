{
 "cells": [
  {
   "cell_type": "code",
   "execution_count": null,
   "id": "03778541",
   "metadata": {},
   "outputs": [],
   "source": []
  },
  {
   "cell_type": "code",
   "execution_count": 1,
   "id": "d8b0a0ef",
   "metadata": {},
   "outputs": [
    {
     "name": "stdout",
     "output_type": "stream",
     "text": [
      "Collecting git+https://github.com/pulakeshpradhan/geepack.gitNote: you may need to restart the kernel to use updated packages.\n",
      "\n",
      "  Cloning https://github.com/pulakeshpradhan/geepack.git to c:\\users\\pulak\\appdata\\local\\temp\\pip-req-build-az3m1ht2\n",
      "  Resolved https://github.com/pulakeshpradhan/geepack.git to commit 9c58942fd0ec4190d3d2ec6341e070c877f60eca\n",
      "  Preparing metadata (setup.py): started\n",
      "  Preparing metadata (setup.py): finished with status 'done'\n",
      "Requirement already satisfied: earthengine-api in c:\\users\\pulak\\anaconda3\\envs\\maps\\lib\\site-packages (from gee_export_utils==0.1.0) (1.5.12)\n",
      "Requirement already satisfied: geemap in c:\\users\\pulak\\anaconda3\\envs\\maps\\lib\\site-packages (from gee_export_utils==0.1.0) (0.35.3)\n",
      "Requirement already satisfied: google-cloud-storage in c:\\users\\pulak\\anaconda3\\envs\\maps\\lib\\site-packages (from earthengine-api->gee_export_utils==0.1.0) (3.1.0)\n",
      "Requirement already satisfied: google-api-python-client>=1.12.1 in c:\\users\\pulak\\anaconda3\\envs\\maps\\lib\\site-packages (from earthengine-api->gee_export_utils==0.1.0) (2.167.0)\n",
      "Requirement already satisfied: google-auth>=1.4.1 in c:\\users\\pulak\\anaconda3\\envs\\maps\\lib\\site-packages (from earthengine-api->gee_export_utils==0.1.0) (2.38.0)\n",
      "Requirement already satisfied: google-auth-httplib2>=0.0.3 in c:\\users\\pulak\\anaconda3\\envs\\maps\\lib\\site-packages (from earthengine-api->gee_export_utils==0.1.0) (0.2.0)\n",
      "Requirement already satisfied: httplib2<1dev,>=0.9.2 in c:\\users\\pulak\\anaconda3\\envs\\maps\\lib\\site-packages (from earthengine-api->gee_export_utils==0.1.0) (0.22.0)\n",
      "Requirement already satisfied: requests in c:\\users\\pulak\\anaconda3\\envs\\maps\\lib\\site-packages (from earthengine-api->gee_export_utils==0.1.0) (2.32.3)\n",
      "Requirement already satisfied: bqplot in c:\\users\\pulak\\anaconda3\\envs\\maps\\lib\\site-packages (from geemap->gee_export_utils==0.1.0) (0.12.43)\n",
      "Requirement already satisfied: colour in c:\\users\\pulak\\anaconda3\\envs\\maps\\lib\\site-packages (from geemap->gee_export_utils==0.1.0) (0.1.4)\n",
      "Requirement already satisfied: eerepr>=0.1.0 in c:\\users\\pulak\\anaconda3\\envs\\maps\\lib\\site-packages (from geemap->gee_export_utils==0.1.0) (0.1.1)\n",
      "Requirement already satisfied: folium>=0.17.0 in c:\\users\\pulak\\anaconda3\\envs\\maps\\lib\\site-packages (from geemap->gee_export_utils==0.1.0) (0.19.5)\n",
      "Requirement already satisfied: geocoder in c:\\users\\pulak\\anaconda3\\envs\\maps\\lib\\site-packages (from geemap->gee_export_utils==0.1.0) (1.38.1)\n",
      "Requirement already satisfied: ipyevents in c:\\users\\pulak\\anaconda3\\envs\\maps\\lib\\site-packages (from geemap->gee_export_utils==0.1.0) (2.0.2)\n",
      "Requirement already satisfied: ipyfilechooser>=0.6.0 in c:\\users\\pulak\\anaconda3\\envs\\maps\\lib\\site-packages (from geemap->gee_export_utils==0.1.0) (0.6.0)\n",
      "Requirement already satisfied: ipyleaflet>=0.19.2 in c:\\users\\pulak\\anaconda3\\envs\\maps\\lib\\site-packages (from geemap->gee_export_utils==0.1.0) (0.19.2)\n",
      "Requirement already satisfied: ipytree in c:\\users\\pulak\\anaconda3\\envs\\maps\\lib\\site-packages (from geemap->gee_export_utils==0.1.0) (0.2.2)\n",
      "Requirement already satisfied: matplotlib in c:\\users\\pulak\\anaconda3\\envs\\maps\\lib\\site-packages (from geemap->gee_export_utils==0.1.0) (3.10.0)\n",
      "Requirement already satisfied: numpy in c:\\users\\pulak\\anaconda3\\envs\\maps\\lib\\site-packages (from geemap->gee_export_utils==0.1.0) (2.2.4)\n",
      "Requirement already satisfied: pandas in c:\\users\\pulak\\anaconda3\\envs\\maps\\lib\\site-packages (from geemap->gee_export_utils==0.1.0) (2.2.3)\n",
      "Requirement already satisfied: plotly in c:\\users\\pulak\\anaconda3\\envs\\maps\\lib\\site-packages (from geemap->gee_export_utils==0.1.0) (5.24.1)\n",
      "Requirement already satisfied: pyperclip in c:\\users\\pulak\\anaconda3\\envs\\maps\\lib\\site-packages (from geemap->gee_export_utils==0.1.0) (1.9.0)\n",
      "Requirement already satisfied: pyshp>=2.3.1 in c:\\users\\pulak\\anaconda3\\envs\\maps\\lib\\site-packages (from geemap->gee_export_utils==0.1.0) (2.3.1)\n",
      "Requirement already satisfied: python-box in c:\\users\\pulak\\anaconda3\\envs\\maps\\lib\\site-packages (from geemap->gee_export_utils==0.1.0) (7.3.2)\n",
      "Requirement already satisfied: scooby in c:\\users\\pulak\\anaconda3\\envs\\maps\\lib\\site-packages (from geemap->gee_export_utils==0.1.0) (0.10.0)\n",
      "Requirement already satisfied: branca>=0.6.0 in c:\\users\\pulak\\anaconda3\\envs\\maps\\lib\\site-packages (from folium>=0.17.0->geemap->gee_export_utils==0.1.0) (0.6.0)\n",
      "Requirement already satisfied: jinja2>=2.9 in c:\\users\\pulak\\anaconda3\\envs\\maps\\lib\\site-packages (from folium>=0.17.0->geemap->gee_export_utils==0.1.0) (3.1.6)\n",
      "Requirement already satisfied: xyzservices in c:\\users\\pulak\\anaconda3\\envs\\maps\\lib\\site-packages (from folium>=0.17.0->geemap->gee_export_utils==0.1.0) (2022.9.0)\n",
      "Requirement already satisfied: google-api-core!=2.0.*,!=2.1.*,!=2.2.*,!=2.3.0,<3.0.0,>=1.31.5 in c:\\users\\pulak\\anaconda3\\envs\\maps\\lib\\site-packages (from google-api-python-client>=1.12.1->earthengine-api->gee_export_utils==0.1.0) (2.24.2)\n",
      "Requirement already satisfied: uritemplate<5,>=3.0.1 in c:\\users\\pulak\\anaconda3\\envs\\maps\\lib\\site-packages (from google-api-python-client>=1.12.1->earthengine-api->gee_export_utils==0.1.0) (4.1.1)\n",
      "Requirement already satisfied: cachetools<6.0,>=2.0.0 in c:\\users\\pulak\\anaconda3\\envs\\maps\\lib\\site-packages (from google-auth>=1.4.1->earthengine-api->gee_export_utils==0.1.0) (5.5.1)\n",
      "Requirement already satisfied: pyasn1-modules>=0.2.1 in c:\\users\\pulak\\anaconda3\\envs\\maps\\lib\\site-packages (from google-auth>=1.4.1->earthengine-api->gee_export_utils==0.1.0) (0.2.8)\n",
      "Requirement already satisfied: rsa<5,>=3.1.4 in c:\\users\\pulak\\anaconda3\\envs\\maps\\lib\\site-packages (from google-auth>=1.4.1->earthengine-api->gee_export_utils==0.1.0) (4.7.2)\n",
      "Requirement already satisfied: pyparsing!=3.0.0,!=3.0.1,!=3.0.2,!=3.0.3,<4,>=2.4.2 in c:\\users\\pulak\\anaconda3\\envs\\maps\\lib\\site-packages (from httplib2<1dev,>=0.9.2->earthengine-api->gee_export_utils==0.1.0) (3.2.0)\n",
      "Requirement already satisfied: ipywidgets in c:\\users\\pulak\\anaconda3\\envs\\maps\\lib\\site-packages (from ipyfilechooser>=0.6.0->geemap->gee_export_utils==0.1.0) (8.1.5)\n",
      "Requirement already satisfied: jupyter-leaflet<0.20,>=0.19 in c:\\users\\pulak\\anaconda3\\envs\\maps\\lib\\site-packages (from ipyleaflet>=0.19.2->geemap->gee_export_utils==0.1.0) (0.19.2)\n",
      "Requirement already satisfied: traittypes<3,>=0.2.1 in c:\\users\\pulak\\anaconda3\\envs\\maps\\lib\\site-packages (from ipyleaflet>=0.19.2->geemap->gee_export_utils==0.1.0) (0.2.1)\n",
      "Requirement already satisfied: traitlets>=4.3.0 in c:\\users\\pulak\\anaconda3\\envs\\maps\\lib\\site-packages (from bqplot->geemap->gee_export_utils==0.1.0) (5.14.3)\n",
      "Requirement already satisfied: python-dateutil>=2.8.2 in c:\\users\\pulak\\anaconda3\\envs\\maps\\lib\\site-packages (from pandas->geemap->gee_export_utils==0.1.0) (2.9.0.post0)\n",
      "Requirement already satisfied: pytz>=2020.1 in c:\\users\\pulak\\anaconda3\\envs\\maps\\lib\\site-packages (from pandas->geemap->gee_export_utils==0.1.0) (2024.1)\n",
      "Requirement already satisfied: tzdata>=2022.7 in c:\\users\\pulak\\anaconda3\\envs\\maps\\lib\\site-packages (from pandas->geemap->gee_export_utils==0.1.0) (2023.3)\n",
      "Requirement already satisfied: ratelim in c:\\users\\pulak\\anaconda3\\envs\\maps\\lib\\site-packages (from geocoder->geemap->gee_export_utils==0.1.0) (0.1.6)\n",
      "Requirement already satisfied: click in c:\\users\\pulak\\anaconda3\\envs\\maps\\lib\\site-packages (from geocoder->geemap->gee_export_utils==0.1.0) (8.1.8)\n",
      "Requirement already satisfied: six in c:\\users\\pulak\\anaconda3\\envs\\maps\\lib\\site-packages (from geocoder->geemap->gee_export_utils==0.1.0) (1.17.0)\n",
      "Requirement already satisfied: future in c:\\users\\pulak\\anaconda3\\envs\\maps\\lib\\site-packages (from geocoder->geemap->gee_export_utils==0.1.0) (1.0.0)\n",
      "Requirement already satisfied: google-cloud-core<3.0dev,>=2.4.2 in c:\\users\\pulak\\anaconda3\\envs\\maps\\lib\\site-packages (from google-cloud-storage->earthengine-api->gee_export_utils==0.1.0) (2.4.3)\n",
      "Requirement already satisfied: google-resumable-media>=2.7.2 in c:\\users\\pulak\\anaconda3\\envs\\maps\\lib\\site-packages (from google-cloud-storage->earthengine-api->gee_export_utils==0.1.0) (2.7.2)\n",
      "Requirement already satisfied: google-crc32c<2.0dev,>=1.0 in c:\\users\\pulak\\anaconda3\\envs\\maps\\lib\\site-packages (from google-cloud-storage->earthengine-api->gee_export_utils==0.1.0) (1.6.0)\n",
      "Requirement already satisfied: charset-normalizer<4,>=2 in c:\\users\\pulak\\anaconda3\\envs\\maps\\lib\\site-packages (from requests->earthengine-api->gee_export_utils==0.1.0) (3.3.2)\n",
      "Requirement already satisfied: idna<4,>=2.5 in c:\\users\\pulak\\anaconda3\\envs\\maps\\lib\\site-packages (from requests->earthengine-api->gee_export_utils==0.1.0) (3.7)\n",
      "Requirement already satisfied: urllib3<3,>=1.21.1 in c:\\users\\pulak\\anaconda3\\envs\\maps\\lib\\site-packages (from requests->earthengine-api->gee_export_utils==0.1.0) (2.3.0)\n",
      "Requirement already satisfied: certifi>=2017.4.17 in c:\\users\\pulak\\anaconda3\\envs\\maps\\lib\\site-packages (from requests->earthengine-api->gee_export_utils==0.1.0) (2025.1.31)\n",
      "Requirement already satisfied: contourpy>=1.0.1 in c:\\users\\pulak\\anaconda3\\envs\\maps\\lib\\site-packages (from matplotlib->geemap->gee_export_utils==0.1.0) (1.3.1)\n",
      "Requirement already satisfied: cycler>=0.10 in c:\\users\\pulak\\anaconda3\\envs\\maps\\lib\\site-packages (from matplotlib->geemap->gee_export_utils==0.1.0) (0.11.0)\n",
      "Requirement already satisfied: fonttools>=4.22.0 in c:\\users\\pulak\\anaconda3\\envs\\maps\\lib\\site-packages (from matplotlib->geemap->gee_export_utils==0.1.0) (4.55.3)\n",
      "Requirement already satisfied: kiwisolver>=1.3.1 in c:\\users\\pulak\\anaconda3\\envs\\maps\\lib\\site-packages (from matplotlib->geemap->gee_export_utils==0.1.0) (1.4.8)\n",
      "Requirement already satisfied: packaging>=20.0 in c:\\users\\pulak\\anaconda3\\envs\\maps\\lib\\site-packages (from matplotlib->geemap->gee_export_utils==0.1.0) (24.2)\n",
      "Requirement already satisfied: pillow>=8 in c:\\users\\pulak\\anaconda3\\envs\\maps\\lib\\site-packages (from matplotlib->geemap->gee_export_utils==0.1.0) (11.1.0)\n",
      "Requirement already satisfied: tenacity>=6.2.0 in c:\\users\\pulak\\anaconda3\\envs\\maps\\lib\\site-packages (from plotly->geemap->gee_export_utils==0.1.0) (9.0.0)\n",
      "Requirement already satisfied: googleapis-common-protos<2.0.0,>=1.56.2 in c:\\users\\pulak\\anaconda3\\envs\\maps\\lib\\site-packages (from google-api-core!=2.0.*,!=2.1.*,!=2.2.*,!=2.3.0,<3.0.0,>=1.31.5->google-api-python-client>=1.12.1->earthengine-api->gee_export_utils==0.1.0) (1.69.2)\n",
      "Requirement already satisfied: protobuf!=3.20.0,!=3.20.1,!=4.21.0,!=4.21.1,!=4.21.2,!=4.21.3,!=4.21.4,!=4.21.5,<7.0.0,>=3.19.5 in c:\\users\\pulak\\anaconda3\\envs\\maps\\lib\\site-packages (from google-api-core!=2.0.*,!=2.1.*,!=2.2.*,!=2.3.0,<3.0.0,>=1.31.5->google-api-python-client>=1.12.1->earthengine-api->gee_export_utils==0.1.0) (5.29.3)\n",
      "Requirement already satisfied: proto-plus<2.0.0,>=1.22.3 in c:\\users\\pulak\\anaconda3\\envs\\maps\\lib\\site-packages (from google-api-core!=2.0.*,!=2.1.*,!=2.2.*,!=2.3.0,<3.0.0,>=1.31.5->google-api-python-client>=1.12.1->earthengine-api->gee_export_utils==0.1.0) (1.26.1)\n",
      "Requirement already satisfied: comm>=0.1.3 in c:\\users\\pulak\\anaconda3\\envs\\maps\\lib\\site-packages (from ipywidgets->ipyfilechooser>=0.6.0->geemap->gee_export_utils==0.1.0) (0.2.1)\n",
      "Requirement already satisfied: ipython>=6.1.0 in c:\\users\\pulak\\anaconda3\\envs\\maps\\lib\\site-packages (from ipywidgets->ipyfilechooser>=0.6.0->geemap->gee_export_utils==0.1.0) (8.30.0)\n",
      "Requirement already satisfied: widgetsnbextension~=4.0.12 in c:\\users\\pulak\\anaconda3\\envs\\maps\\lib\\site-packages (from ipywidgets->ipyfilechooser>=0.6.0->geemap->gee_export_utils==0.1.0) (4.0.13)\n",
      "Requirement already satisfied: jupyterlab_widgets~=3.0.12 in c:\\users\\pulak\\anaconda3\\envs\\maps\\lib\\site-packages (from ipywidgets->ipyfilechooser>=0.6.0->geemap->gee_export_utils==0.1.0) (3.0.13)\n",
      "Requirement already satisfied: MarkupSafe>=2.0 in c:\\users\\pulak\\anaconda3\\envs\\maps\\lib\\site-packages (from jinja2>=2.9->folium>=0.17.0->geemap->gee_export_utils==0.1.0) (3.0.2)\n",
      "Requirement already satisfied: pyasn1<0.5.0,>=0.4.6 in c:\\users\\pulak\\anaconda3\\envs\\maps\\lib\\site-packages (from pyasn1-modules>=0.2.1->google-auth>=1.4.1->earthengine-api->gee_export_utils==0.1.0) (0.4.8)\n",
      "Requirement already satisfied: colorama in c:\\users\\pulak\\anaconda3\\envs\\maps\\lib\\site-packages (from click->geocoder->geemap->gee_export_utils==0.1.0) (0.4.6)\n",
      "Requirement already satisfied: decorator in c:\\users\\pulak\\anaconda3\\envs\\maps\\lib\\site-packages (from ratelim->geocoder->geemap->gee_export_utils==0.1.0) (5.1.1)\n",
      "Requirement already satisfied: jedi>=0.16 in c:\\users\\pulak\\anaconda3\\envs\\maps\\lib\\site-packages (from ipython>=6.1.0->ipywidgets->ipyfilechooser>=0.6.0->geemap->gee_export_utils==0.1.0) (0.19.2)\n",
      "Requirement already satisfied: matplotlib-inline in c:\\users\\pulak\\anaconda3\\envs\\maps\\lib\\site-packages (from ipython>=6.1.0->ipywidgets->ipyfilechooser>=0.6.0->geemap->gee_export_utils==0.1.0) (0.1.6)\n",
      "Requirement already satisfied: prompt-toolkit<3.1.0,>=3.0.41 in c:\\users\\pulak\\anaconda3\\envs\\maps\\lib\\site-packages (from ipython>=6.1.0->ipywidgets->ipyfilechooser>=0.6.0->geemap->gee_export_utils==0.1.0) (3.0.43)\n",
      "Requirement already satisfied: pygments>=2.4.0 in c:\\users\\pulak\\anaconda3\\envs\\maps\\lib\\site-packages (from ipython>=6.1.0->ipywidgets->ipyfilechooser>=0.6.0->geemap->gee_export_utils==0.1.0) (2.19.1)\n",
      "Requirement already satisfied: stack-data in c:\\users\\pulak\\anaconda3\\envs\\maps\\lib\\site-packages (from ipython>=6.1.0->ipywidgets->ipyfilechooser>=0.6.0->geemap->gee_export_utils==0.1.0) (0.2.0)\n",
      "Requirement already satisfied: parso<0.9.0,>=0.8.4 in c:\\users\\pulak\\anaconda3\\envs\\maps\\lib\\site-packages (from jedi>=0.16->ipython>=6.1.0->ipywidgets->ipyfilechooser>=0.6.0->geemap->gee_export_utils==0.1.0) (0.8.4)\n",
      "Requirement already satisfied: wcwidth in c:\\users\\pulak\\anaconda3\\envs\\maps\\lib\\site-packages (from prompt-toolkit<3.1.0,>=3.0.41->ipython>=6.1.0->ipywidgets->ipyfilechooser>=0.6.0->geemap->gee_export_utils==0.1.0) (0.2.5)\n",
      "Requirement already satisfied: executing in c:\\users\\pulak\\anaconda3\\envs\\maps\\lib\\site-packages (from stack-data->ipython>=6.1.0->ipywidgets->ipyfilechooser>=0.6.0->geemap->gee_export_utils==0.1.0) (0.8.3)\n",
      "Requirement already satisfied: asttokens in c:\\users\\pulak\\anaconda3\\envs\\maps\\lib\\site-packages (from stack-data->ipython>=6.1.0->ipywidgets->ipyfilechooser>=0.6.0->geemap->gee_export_utils==0.1.0) (3.0.0)\n",
      "Requirement already satisfied: pure-eval in c:\\users\\pulak\\anaconda3\\envs\\maps\\lib\\site-packages (from stack-data->ipython>=6.1.0->ipywidgets->ipyfilechooser>=0.6.0->geemap->gee_export_utils==0.1.0) (0.2.2)\n"
     ]
    },
    {
     "name": "stderr",
     "output_type": "stream",
     "text": [
      "  Running command git clone --filter=blob:none --quiet https://github.com/pulakeshpradhan/geepack.git 'C:\\Users\\pulak\\AppData\\Local\\Temp\\pip-req-build-az3m1ht2'\n"
     ]
    }
   ],
   "source": [
    "pip install git+https://github.com/pulakeshpradhan/geepack.git"
   ]
  },
  {
   "cell_type": "code",
   "execution_count": 2,
   "id": "8afef0d0",
   "metadata": {},
   "outputs": [
    {
     "ename": "ModuleNotFoundError",
     "evalue": "No module named 'gee_export_utils'",
     "output_type": "error",
     "traceback": [
      "\u001b[1;31m---------------------------------------------------------------------------\u001b[0m",
      "\u001b[1;31mModuleNotFoundError\u001b[0m                       Traceback (most recent call last)",
      "Cell \u001b[1;32mIn[2], line 1\u001b[0m\n\u001b[1;32m----> 1\u001b[0m \u001b[38;5;28;01mfrom\u001b[39;00m\u001b[38;5;250m \u001b[39m\u001b[38;5;21;01mgee_export_utils\u001b[39;00m\u001b[38;5;250m \u001b[39m\u001b[38;5;28;01mimport\u001b[39;00m export_image_to_drive\n",
      "\u001b[1;31mModuleNotFoundError\u001b[0m: No module named 'gee_export_utils'"
     ]
    }
   ],
   "source": [
    "from gee_export_utils import export_image_to_drive"
   ]
  },
  {
   "cell_type": "code",
   "execution_count": null,
   "id": "aabf18a3",
   "metadata": {},
   "outputs": [],
   "source": [
    "import ee\n",
    "import geemap\n",
    "\n",
    "\n",
    "# Initialize Earth Engine\n",
    "ee.Initialize()\n",
    "\n",
    "# Define an image and a region\n",
    "image = ee.Image('USGS/SRTMGL1_003')\n",
    "region = ee.Geometry.Rectangle([-122.092, 37.42, -122.08, 37.43])\n",
    "\n",
    "# Export the image to Google Drive\n",
    "export_image_to_drive(image, region, scale=30, description='srtm_export')\n",
    "\n",
    "# Download the image as a single GeoTIFF\n",
    "# download_image_single(image, region, scale=30, output_dir='./downloads')\n",
    "\n",
    "# Download the image as tiles\n",
    "# download_image_tiles(image, region, scale=30, output_dir='./tiles', rows=2, cols=2)"
   ]
  }
 ],
 "metadata": {
  "kernelspec": {
   "display_name": "maps",
   "language": "python",
   "name": "python3"
  },
  "language_info": {
   "codemirror_mode": {
    "name": "ipython",
    "version": 3
   },
   "file_extension": ".py",
   "mimetype": "text/x-python",
   "name": "python",
   "nbconvert_exporter": "python",
   "pygments_lexer": "ipython3",
   "version": "3.13.2"
  }
 },
 "nbformat": 4,
 "nbformat_minor": 5
}
