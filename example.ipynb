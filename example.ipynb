{
 "cells": [
  {
   "cell_type": "code",
   "execution_count": 1,
   "id": "d8b0a0ef",
   "metadata": {},
   "outputs": [
    {
     "name": "stdout",
     "output_type": "stream",
     "text": [
      "Collecting git+https://github.com/pulakeshpradhan/export_earth.git\n",
      "  Cloning https://github.com/pulakeshpradhan/export_earth.git to c:\\users\\pulak\\appdata\\local\\temp\\pip-req-build-xrpowu9t\n",
      "  Resolved https://github.com/pulakeshpradhan/export_earth.git to commit e542b8c43a3948ff83b70737be65792141517cf1\n",
      "  Preparing metadata (setup.py): started\n",
      "  Preparing metadata (setup.py): finished with status 'done'\n",
      "Requirement already satisfied: earthengine-api in c:\\users\\pulak\\anaconda3\\envs\\maps\\lib\\site-packages (from export_earth==0.1.0) (1.5.12)\n",
      "Requirement already satisfied: geemap in c:\\users\\pulak\\anaconda3\\envs\\maps\\lib\\site-packages (from export_earth==0.1.0) (0.35.3)\n",
      "Requirement already satisfied: google-cloud-storage in c:\\users\\pulak\\anaconda3\\envs\\maps\\lib\\site-packages (from earthengine-api->export_earth==0.1.0) (3.1.0)\n",
      "Requirement already satisfied: google-api-python-client>=1.12.1 in c:\\users\\pulak\\anaconda3\\envs\\maps\\lib\\site-packages (from earthengine-api->export_earth==0.1.0) (2.167.0)\n",
      "Requirement already satisfied: google-auth>=1.4.1 in c:\\users\\pulak\\anaconda3\\envs\\maps\\lib\\site-packages (from earthengine-api->export_earth==0.1.0) (2.38.0)\n",
      "Requirement already satisfied: google-auth-httplib2>=0.0.3 in c:\\users\\pulak\\anaconda3\\envs\\maps\\lib\\site-packages (from earthengine-api->export_earth==0.1.0) (0.2.0)\n",
      "Requirement already satisfied: httplib2<1dev,>=0.9.2 in c:\\users\\pulak\\anaconda3\\envs\\maps\\lib\\site-packages (from earthengine-api->export_earth==0.1.0) (0.22.0)\n",
      "Requirement already satisfied: requests in c:\\users\\pulak\\anaconda3\\envs\\maps\\lib\\site-packages (from earthengine-api->export_earth==0.1.0) (2.32.3)\n",
      "Requirement already satisfied: bqplot in c:\\users\\pulak\\anaconda3\\envs\\maps\\lib\\site-packages (from geemap->export_earth==0.1.0) (0.12.43)\n",
      "Requirement already satisfied: colour in c:\\users\\pulak\\anaconda3\\envs\\maps\\lib\\site-packages (from geemap->export_earth==0.1.0) (0.1.4)\n",
      "Requirement already satisfied: eerepr>=0.1.0 in c:\\users\\pulak\\anaconda3\\envs\\maps\\lib\\site-packages (from geemap->export_earth==0.1.0) (0.1.1)\n",
      "Requirement already satisfied: folium>=0.17.0 in c:\\users\\pulak\\anaconda3\\envs\\maps\\lib\\site-packages (from geemap->export_earth==0.1.0) (0.19.5)\n",
      "Requirement already satisfied: geocoder in c:\\users\\pulak\\anaconda3\\envs\\maps\\lib\\site-packages (from geemap->export_earth==0.1.0) (1.38.1)\n",
      "Requirement already satisfied: ipyevents in c:\\users\\pulak\\anaconda3\\envs\\maps\\lib\\site-packages (from geemap->export_earth==0.1.0) (2.0.2)\n",
      "Requirement already satisfied: ipyfilechooser>=0.6.0 in c:\\users\\pulak\\anaconda3\\envs\\maps\\lib\\site-packages (from geemap->export_earth==0.1.0) (0.6.0)\n",
      "Requirement already satisfied: ipyleaflet>=0.19.2 in c:\\users\\pulak\\anaconda3\\envs\\maps\\lib\\site-packages (from geemap->export_earth==0.1.0) (0.19.2)\n",
      "Requirement already satisfied: ipytree in c:\\users\\pulak\\anaconda3\\envs\\maps\\lib\\site-packages (from geemap->export_earth==0.1.0) (0.2.2)\n",
      "Requirement already satisfied: matplotlib in c:\\users\\pulak\\anaconda3\\envs\\maps\\lib\\site-packages (from geemap->export_earth==0.1.0) (3.10.0)\n",
      "Requirement already satisfied: numpy in c:\\users\\pulak\\anaconda3\\envs\\maps\\lib\\site-packages (from geemap->export_earth==0.1.0) (2.2.4)\n",
      "Requirement already satisfied: pandas in c:\\users\\pulak\\anaconda3\\envs\\maps\\lib\\site-packages (from geemap->export_earth==0.1.0) (2.2.3)\n",
      "Requirement already satisfied: plotly in c:\\users\\pulak\\anaconda3\\envs\\maps\\lib\\site-packages (from geemap->export_earth==0.1.0) (5.24.1)\n",
      "Requirement already satisfied: pyperclip in c:\\users\\pulak\\anaconda3\\envs\\maps\\lib\\site-packages (from geemap->export_earth==0.1.0) (1.9.0)\n",
      "Requirement already satisfied: pyshp>=2.3.1 in c:\\users\\pulak\\anaconda3\\envs\\maps\\lib\\site-packages (from geemap->export_earth==0.1.0) (2.3.1)\n",
      "Requirement already satisfied: python-box in c:\\users\\pulak\\anaconda3\\envs\\maps\\lib\\site-packages (from geemap->export_earth==0.1.0) (7.3.2)\n",
      "Requirement already satisfied: scooby in c:\\users\\pulak\\anaconda3\\envs\\maps\\lib\\site-packages (from geemap->export_earth==0.1.0) (0.10.0)\n",
      "Requirement already satisfied: branca>=0.6.0 in c:\\users\\pulak\\anaconda3\\envs\\maps\\lib\\site-packages (from folium>=0.17.0->geemap->export_earth==0.1.0) (0.6.0)\n",
      "Requirement already satisfied: jinja2>=2.9 in c:\\users\\pulak\\anaconda3\\envs\\maps\\lib\\site-packages (from folium>=0.17.0->geemap->export_earth==0.1.0) (3.1.6)\n",
      "Requirement already satisfied: xyzservices in c:\\users\\pulak\\anaconda3\\envs\\maps\\lib\\site-packages (from folium>=0.17.0->geemap->export_earth==0.1.0) (2022.9.0)\n",
      "Requirement already satisfied: google-api-core!=2.0.*,!=2.1.*,!=2.2.*,!=2.3.0,<3.0.0,>=1.31.5 in c:\\users\\pulak\\anaconda3\\envs\\maps\\lib\\site-packages (from google-api-python-client>=1.12.1->earthengine-api->export_earth==0.1.0) (2.24.2)\n",
      "Requirement already satisfied: uritemplate<5,>=3.0.1 in c:\\users\\pulak\\anaconda3\\envs\\maps\\lib\\site-packages (from google-api-python-client>=1.12.1->earthengine-api->export_earth==0.1.0) (4.1.1)\n",
      "Requirement already satisfied: cachetools<6.0,>=2.0.0 in c:\\users\\pulak\\anaconda3\\envs\\maps\\lib\\site-packages (from google-auth>=1.4.1->earthengine-api->export_earth==0.1.0) (5.5.1)\n",
      "Requirement already satisfied: pyasn1-modules>=0.2.1 in c:\\users\\pulak\\anaconda3\\envs\\maps\\lib\\site-packages (from google-auth>=1.4.1->earthengine-api->export_earth==0.1.0) (0.2.8)\n",
      "Requirement already satisfied: rsa<5,>=3.1.4 in c:\\users\\pulak\\anaconda3\\envs\\maps\\lib\\site-packages (from google-auth>=1.4.1->earthengine-api->export_earth==0.1.0) (4.7.2)\n",
      "Requirement already satisfied: pyparsing!=3.0.0,!=3.0.1,!=3.0.2,!=3.0.3,<4,>=2.4.2 in c:\\users\\pulak\\anaconda3\\envs\\maps\\lib\\site-packages (from httplib2<1dev,>=0.9.2->earthengine-api->export_earth==0.1.0) (3.2.0)\n",
      "Requirement already satisfied: ipywidgets in c:\\users\\pulak\\anaconda3\\envs\\maps\\lib\\site-packages (from ipyfilechooser>=0.6.0->geemap->export_earth==0.1.0) (8.1.5)\n",
      "Requirement already satisfied: jupyter-leaflet<0.20,>=0.19 in c:\\users\\pulak\\anaconda3\\envs\\maps\\lib\\site-packages (from ipyleaflet>=0.19.2->geemap->export_earth==0.1.0) (0.19.2)\n",
      "Requirement already satisfied: traittypes<3,>=0.2.1 in c:\\users\\pulak\\anaconda3\\envs\\maps\\lib\\site-packages (from ipyleaflet>=0.19.2->geemap->export_earth==0.1.0) (0.2.1)\n",
      "Requirement already satisfied: traitlets>=4.3.0 in c:\\users\\pulak\\anaconda3\\envs\\maps\\lib\\site-packages (from bqplot->geemap->export_earth==0.1.0) (5.14.3)\n",
      "Requirement already satisfied: python-dateutil>=2.8.2 in c:\\users\\pulak\\anaconda3\\envs\\maps\\lib\\site-packages (from pandas->geemap->export_earth==0.1.0) (2.9.0.post0)\n",
      "Requirement already satisfied: pytz>=2020.1 in c:\\users\\pulak\\anaconda3\\envs\\maps\\lib\\site-packages (from pandas->geemap->export_earth==0.1.0) (2024.1)\n",
      "Requirement already satisfied: tzdata>=2022.7 in c:\\users\\pulak\\anaconda3\\envs\\maps\\lib\\site-packages (from pandas->geemap->export_earth==0.1.0) (2023.3)\n",
      "Requirement already satisfied: ratelim in c:\\users\\pulak\\anaconda3\\envs\\maps\\lib\\site-packages (from geocoder->geemap->export_earth==0.1.0) (0.1.6)\n",
      "Requirement already satisfied: click in c:\\users\\pulak\\anaconda3\\envs\\maps\\lib\\site-packages (from geocoder->geemap->export_earth==0.1.0) (8.1.8)\n",
      "Requirement already satisfied: six in c:\\users\\pulak\\anaconda3\\envs\\maps\\lib\\site-packages (from geocoder->geemap->export_earth==0.1.0) (1.17.0)\n",
      "Requirement already satisfied: future in c:\\users\\pulak\\anaconda3\\envs\\maps\\lib\\site-packages (from geocoder->geemap->export_earth==0.1.0) (1.0.0)\n",
      "Requirement already satisfied: google-cloud-core<3.0dev,>=2.4.2 in c:\\users\\pulak\\anaconda3\\envs\\maps\\lib\\site-packages (from google-cloud-storage->earthengine-api->export_earth==0.1.0) (2.4.3)\n",
      "Requirement already satisfied: google-resumable-media>=2.7.2 in c:\\users\\pulak\\anaconda3\\envs\\maps\\lib\\site-packages (from google-cloud-storage->earthengine-api->export_earth==0.1.0) (2.7.2)\n",
      "Requirement already satisfied: google-crc32c<2.0dev,>=1.0 in c:\\users\\pulak\\anaconda3\\envs\\maps\\lib\\site-packages (from google-cloud-storage->earthengine-api->export_earth==0.1.0) (1.6.0)\n",
      "Requirement already satisfied: charset-normalizer<4,>=2 in c:\\users\\pulak\\anaconda3\\envs\\maps\\lib\\site-packages (from requests->earthengine-api->export_earth==0.1.0) (3.3.2)\n",
      "Requirement already satisfied: idna<4,>=2.5 in c:\\users\\pulak\\anaconda3\\envs\\maps\\lib\\site-packages (from requests->earthengine-api->export_earth==0.1.0) (3.7)\n",
      "Requirement already satisfied: urllib3<3,>=1.21.1 in c:\\users\\pulak\\anaconda3\\envs\\maps\\lib\\site-packages (from requests->earthengine-api->export_earth==0.1.0) (2.3.0)\n",
      "Requirement already satisfied: certifi>=2017.4.17 in c:\\users\\pulak\\anaconda3\\envs\\maps\\lib\\site-packages (from requests->earthengine-api->export_earth==0.1.0) (2025.1.31)\n",
      "Requirement already satisfied: contourpy>=1.0.1 in c:\\users\\pulak\\anaconda3\\envs\\maps\\lib\\site-packages (from matplotlib->geemap->export_earth==0.1.0) (1.3.1)\n",
      "Requirement already satisfied: cycler>=0.10 in c:\\users\\pulak\\anaconda3\\envs\\maps\\lib\\site-packages (from matplotlib->geemap->export_earth==0.1.0) (0.11.0)\n",
      "Requirement already satisfied: fonttools>=4.22.0 in c:\\users\\pulak\\anaconda3\\envs\\maps\\lib\\site-packages (from matplotlib->geemap->export_earth==0.1.0) (4.55.3)\n",
      "Requirement already satisfied: kiwisolver>=1.3.1 in c:\\users\\pulak\\anaconda3\\envs\\maps\\lib\\site-packages (from matplotlib->geemap->export_earth==0.1.0) (1.4.8)\n",
      "Requirement already satisfied: packaging>=20.0 in c:\\users\\pulak\\anaconda3\\envs\\maps\\lib\\site-packages (from matplotlib->geemap->export_earth==0.1.0) (24.2)\n",
      "Requirement already satisfied: pillow>=8 in c:\\users\\pulak\\anaconda3\\envs\\maps\\lib\\site-packages (from matplotlib->geemap->export_earth==0.1.0) (11.1.0)\n",
      "Requirement already satisfied: tenacity>=6.2.0 in c:\\users\\pulak\\anaconda3\\envs\\maps\\lib\\site-packages (from plotly->geemap->export_earth==0.1.0) (9.0.0)\n",
      "Requirement already satisfied: googleapis-common-protos<2.0.0,>=1.56.2 in c:\\users\\pulak\\anaconda3\\envs\\maps\\lib\\site-packages (from google-api-core!=2.0.*,!=2.1.*,!=2.2.*,!=2.3.0,<3.0.0,>=1.31.5->google-api-python-client>=1.12.1->earthengine-api->export_earth==0.1.0) (1.69.2)\n",
      "Requirement already satisfied: protobuf!=3.20.0,!=3.20.1,!=4.21.0,!=4.21.1,!=4.21.2,!=4.21.3,!=4.21.4,!=4.21.5,<7.0.0,>=3.19.5 in c:\\users\\pulak\\anaconda3\\envs\\maps\\lib\\site-packages (from google-api-core!=2.0.*,!=2.1.*,!=2.2.*,!=2.3.0,<3.0.0,>=1.31.5->google-api-python-client>=1.12.1->earthengine-api->export_earth==0.1.0) (5.29.3)\n",
      "Requirement already satisfied: proto-plus<2.0.0,>=1.22.3 in c:\\users\\pulak\\anaconda3\\envs\\maps\\lib\\site-packages (from google-api-core!=2.0.*,!=2.1.*,!=2.2.*,!=2.3.0,<3.0.0,>=1.31.5->google-api-python-client>=1.12.1->earthengine-api->export_earth==0.1.0) (1.26.1)\n",
      "Requirement already satisfied: comm>=0.1.3 in c:\\users\\pulak\\anaconda3\\envs\\maps\\lib\\site-packages (from ipywidgets->ipyfilechooser>=0.6.0->geemap->export_earth==0.1.0) (0.2.1)\n",
      "Requirement already satisfied: ipython>=6.1.0 in c:\\users\\pulak\\anaconda3\\envs\\maps\\lib\\site-packages (from ipywidgets->ipyfilechooser>=0.6.0->geemap->export_earth==0.1.0) (8.30.0)\n",
      "Requirement already satisfied: widgetsnbextension~=4.0.12 in c:\\users\\pulak\\anaconda3\\envs\\maps\\lib\\site-packages (from ipywidgets->ipyfilechooser>=0.6.0->geemap->export_earth==0.1.0) (4.0.13)\n",
      "Requirement already satisfied: jupyterlab_widgets~=3.0.12 in c:\\users\\pulak\\anaconda3\\envs\\maps\\lib\\site-packages (from ipywidgets->ipyfilechooser>=0.6.0->geemap->export_earth==0.1.0) (3.0.13)\n",
      "Requirement already satisfied: MarkupSafe>=2.0 in c:\\users\\pulak\\anaconda3\\envs\\maps\\lib\\site-packages (from jinja2>=2.9->folium>=0.17.0->geemap->export_earth==0.1.0) (3.0.2)\n",
      "Requirement already satisfied: pyasn1<0.5.0,>=0.4.6 in c:\\users\\pulak\\anaconda3\\envs\\maps\\lib\\site-packages (from pyasn1-modules>=0.2.1->google-auth>=1.4.1->earthengine-api->export_earth==0.1.0) (0.4.8)\n",
      "Requirement already satisfied: colorama in c:\\users\\pulak\\anaconda3\\envs\\maps\\lib\\site-packages (from click->geocoder->geemap->export_earth==0.1.0) (0.4.6)\n",
      "Requirement already satisfied: decorator in c:\\users\\pulak\\anaconda3\\envs\\maps\\lib\\site-packages (from ratelim->geocoder->geemap->export_earth==0.1.0) (5.1.1)\n",
      "Requirement already satisfied: jedi>=0.16 in c:\\users\\pulak\\anaconda3\\envs\\maps\\lib\\site-packages (from ipython>=6.1.0->ipywidgets->ipyfilechooser>=0.6.0->geemap->export_earth==0.1.0) (0.19.2)\n",
      "Requirement already satisfied: matplotlib-inline in c:\\users\\pulak\\anaconda3\\envs\\maps\\lib\\site-packages (from ipython>=6.1.0->ipywidgets->ipyfilechooser>=0.6.0->geemap->export_earth==0.1.0) (0.1.6)\n",
      "Requirement already satisfied: prompt-toolkit<3.1.0,>=3.0.41 in c:\\users\\pulak\\anaconda3\\envs\\maps\\lib\\site-packages (from ipython>=6.1.0->ipywidgets->ipyfilechooser>=0.6.0->geemap->export_earth==0.1.0) (3.0.43)\n",
      "Requirement already satisfied: pygments>=2.4.0 in c:\\users\\pulak\\anaconda3\\envs\\maps\\lib\\site-packages (from ipython>=6.1.0->ipywidgets->ipyfilechooser>=0.6.0->geemap->export_earth==0.1.0) (2.19.1)\n",
      "Requirement already satisfied: stack-data in c:\\users\\pulak\\anaconda3\\envs\\maps\\lib\\site-packages (from ipython>=6.1.0->ipywidgets->ipyfilechooser>=0.6.0->geemap->export_earth==0.1.0) (0.2.0)\n",
      "Requirement already satisfied: parso<0.9.0,>=0.8.4 in c:\\users\\pulak\\anaconda3\\envs\\maps\\lib\\site-packages (from jedi>=0.16->ipython>=6.1.0->ipywidgets->ipyfilechooser>=0.6.0->geemap->export_earth==0.1.0) (0.8.4)\n",
      "Requirement already satisfied: wcwidth in c:\\users\\pulak\\anaconda3\\envs\\maps\\lib\\site-packages (from prompt-toolkit<3.1.0,>=3.0.41->ipython>=6.1.0->ipywidgets->ipyfilechooser>=0.6.0->geemap->export_earth==0.1.0) (0.2.5)\n",
      "Requirement already satisfied: executing in c:\\users\\pulak\\anaconda3\\envs\\maps\\lib\\site-packages (from stack-data->ipython>=6.1.0->ipywidgets->ipyfilechooser>=0.6.0->geemap->export_earth==0.1.0) (0.8.3)\n",
      "Requirement already satisfied: asttokens in c:\\users\\pulak\\anaconda3\\envs\\maps\\lib\\site-packages (from stack-data->ipython>=6.1.0->ipywidgets->ipyfilechooser>=0.6.0->geemap->export_earth==0.1.0) (3.0.0)\n",
      "Requirement already satisfied: pure-eval in c:\\users\\pulak\\anaconda3\\envs\\maps\\lib\\site-packages (from stack-data->ipython>=6.1.0->ipywidgets->ipyfilechooser>=0.6.0->geemap->export_earth==0.1.0) (0.2.2)\n",
      "Building wheels for collected packages: export_earth\n",
      "  Building wheel for export_earth (setup.py): started\n",
      "  Building wheel for export_earth (setup.py): finished with status 'done'\n",
      "  Created wheel for export_earth: filename=export_earth-0.1.0-py3-none-any.whl size=1127 sha256=b000b78ca456a87420a05b0c371f4a126dc6a430e3acc7c6ccc2771671c9d898\n",
      "  Stored in directory: C:\\Users\\pulak\\AppData\\Local\\Temp\\pip-ephem-wheel-cache-vor6a51c\\wheels\\07\\2b\\c5\\94b1e8abf447b9a975aad6e97689d72dfdffef195e35922904\n",
      "Successfully built export_earth\n",
      "Installing collected packages: export_earth\n",
      "Successfully installed export_earth-0.1.0\n",
      "Note: you may need to restart the kernel to use updated packages.\n"
     ]
    },
    {
     "name": "stderr",
     "output_type": "stream",
     "text": [
      "  Running command git clone --filter=blob:none --quiet https://github.com/pulakeshpradhan/export_earth.git 'C:\\Users\\pulak\\AppData\\Local\\Temp\\pip-req-build-xrpowu9t'\n"
     ]
    }
   ],
   "source": [
    "pip install git+https://github.com/pulakeshpradhan/export_earth.git"
   ]
  },
  {
   "cell_type": "code",
   "execution_count": 1,
   "id": "8afef0d0",
   "metadata": {},
   "outputs": [],
   "source": [
    "from pulakesh import export_image_to_drive\n",
    "from pulakesh import download_image_single\n",
    "from pulakesh import download_image_tiles"
   ]
  },
  {
   "cell_type": "code",
   "execution_count": 1,
   "id": "aabf18a3",
   "metadata": {},
   "outputs": [],
   "source": [
    "import ee\n",
    "import geemap\n",
    "\n",
    "\n",
    "# Initialize Earth Engine\n",
    "ee.Authenticate()\n",
    "ee.Initialize(project='pulakeshpradhan')\n",
    "\n",
    "# Define an image and a region\n",
    "# image = ee.Image('USGS/SRTMGL1_003')\n",
    "# region = ee.FeatureCollection(\"projects/pulakeshpradhan/assets/shp/odisha\").geometry()\n",
    "\n",
    "# Export the image to Google Drive\n",
    "# export_image_to_drive(image, region, scale=30, description='srtm_export')\n",
    "\n",
    "# Download the image as a single GeoTIFF\n",
    "# download_image_single(image, region, scale=30, output_dir='./downloads')\n",
    "\n",
    "# Download the image as tile\n",
    "# download_image_tiles(image, region, scale=30, output_dir='./OD', rows=4, cols=4)"
   ]
  },
  {
   "cell_type": "code",
   "execution_count": 2,
   "id": "7ceeab8e",
   "metadata": {},
   "outputs": [
    {
     "data": {
      "text/html": [
       "\n",
       "            <style>\n",
       "                .geemap-dark {\n",
       "                    --jp-widgets-color: white;\n",
       "                    --jp-widgets-label-color: white;\n",
       "                    --jp-ui-font-color1: white;\n",
       "                    --jp-layout-color2: #454545;\n",
       "                    background-color: #383838;\n",
       "                }\n",
       "\n",
       "                .geemap-dark .jupyter-button {\n",
       "                    --jp-layout-color3: #383838;\n",
       "                }\n",
       "\n",
       "                .geemap-colab {\n",
       "                    background-color: var(--colab-primary-surface-color, white);\n",
       "                }\n",
       "\n",
       "                .geemap-colab .jupyter-button {\n",
       "                    --jp-layout-color3: var(--colab-primary-surface-color, white);\n",
       "                }\n",
       "            </style>\n",
       "            "
      ],
      "text/plain": [
       "<IPython.core.display.HTML object>"
      ]
     },
     "metadata": {},
     "output_type": "display_data"
    },
    {
     "name": "stderr",
     "output_type": "stream",
     "text": [
      "c:\\Users\\pulak\\anaconda3\\envs\\maps\\Lib\\site-packages\\ee\\deprecation.py:207: DeprecationWarning: \n",
      "\n",
      "Attention required for MODIS/006/MOD11A2! You are using a deprecated asset.\n",
      "To make sure your code keeps working, please update it.\n",
      "Learn more: https://developers.google.com/earth-engine/datasets/catalog/MODIS_006_MOD11A2\n",
      "\n",
      "  warnings.warn(warning, category=DeprecationWarning)\n"
     ]
    }
   ],
   "source": [
    "import ee\n",
    "import pandas as pd\n",
    "import numpy as np\n",
    "\n",
    "\n",
    "# --------------------------------------\n",
    "# 2. Define Region of Interest and Time Range\n",
    "# --------------------------------------\n",
    "roi = ee.Geometry.Rectangle([91.0, 22.0, 92.0, 23.0])  # Example: Chittagong area\n",
    "start_date = '2018-01-01'\n",
    "end_date = '2022-12-31'\n",
    "\n",
    "# --------------------------------------\n",
    "# 3. Load and Scale MODIS LST Day Data\n",
    "# --------------------------------------\n",
    "modis_lst = ee.ImageCollection('MODIS/006/MOD11A2') \\\n",
    "    .select('LST_Day_1km') \\\n",
    "    .filterDate(start_date, end_date) \\\n",
    "    .map(lambda img: img.multiply(0.02)\n",
    "         .copyProperties(img, img.propertyNames())\n",
    "         .set('system:time_start', img.get('system:time_start')))\n",
    "\n",
    "# --------------------------------------\n",
    "# 4. Monthly Composite Generator\n",
    "# --------------------------------------\n",
    "def get_monthly_composites(collection, reducer='mean'):\n",
    "    \"\"\"Generate monthly composites (mean or sum)\"\"\"\n",
    "    def monthly_image(date):\n",
    "        start = date\n",
    "        end = date.advance(1, 'month')\n",
    "        img = collection.filterDate(start, end)\n",
    "        composite = img.mean() if reducer == 'mean' else img.sum()\n",
    "        return composite.set('system:time_start', start.millis())\n",
    "\n",
    "    n_months = ee.Number(ee.Date(end_date).difference(ee.Date(start_date), 'month')).round()\n",
    "    months = ee.List.sequence(0, n_months)\n",
    "\n",
    "    return ee.ImageCollection.fromImages(\n",
    "        months.map(lambda m: monthly_image(ee.Date(start_date).advance(m, 'month')))\n",
    "    )\n",
    "\n",
    "# Create monthly composites\n",
    "monthly_lst = get_monthly_composites(modis_lst, reducer='mean')"
   ]
  },
  {
   "cell_type": "markdown",
   "id": "8d10dd4c",
   "metadata": {},
   "source": [
    "## CSV"
   ]
  },
  {
   "cell_type": "code",
   "execution_count": null,
   "id": "72cedcb6",
   "metadata": {},
   "outputs": [],
   "source": [
    "# --------------------------------------\n",
    "# 5. Extract Time Series to DataFrame\n",
    "# --------------------------------------\n",
    "def extract_time_series_to_df(collection, band_names, region=None, scale=1000):\n",
    "    \"\"\"Convert Earth Engine image collection to pandas DataFrame\"\"\"\n",
    "    if region is None:\n",
    "        region = roi\n",
    "\n",
    "    def extract(img):\n",
    "        stats = img.reduceRegion(ee.Reducer.mean(), region, scale, maxPixels=1e13)\n",
    "        return ee.Feature(None, stats).set('date', img.get('system:time_start'))\n",
    "\n",
    "    features = collection.map(extract)\n",
    "    data = features.getInfo()['features']\n",
    "\n",
    "    df = pd.DataFrame([\n",
    "        {'date': pd.to_datetime(f['properties']['date'], unit='ms'),\n",
    "         **{k: v for k, v in f['properties'].items() if k != 'date'}}\n",
    "        for f in data\n",
    "    ])\n",
    "\n",
    "    for band in band_names:\n",
    "        if band not in df.columns:\n",
    "            df[band] = np.nan\n",
    "\n",
    "    return df\n",
    "df_lst = extract_time_series_to_df(monthly_lst, ['LST_Day_1km'], region=roi, scale=1000)\n",
    "df_lst.to_csv('modis_lst_day_monthly.csv', index=False)"
   ]
  },
  {
   "cell_type": "markdown",
   "id": "07094c6b",
   "metadata": {},
   "source": [
    "## Drive"
   ]
  },
  {
   "cell_type": "code",
   "execution_count": 24,
   "id": "dd3563cd",
   "metadata": {},
   "outputs": [
    {
     "data": {
      "text/html": [
       "\n",
       "            <style>\n",
       "                .geemap-dark {\n",
       "                    --jp-widgets-color: white;\n",
       "                    --jp-widgets-label-color: white;\n",
       "                    --jp-ui-font-color1: white;\n",
       "                    --jp-layout-color2: #454545;\n",
       "                    background-color: #383838;\n",
       "                }\n",
       "\n",
       "                .geemap-dark .jupyter-button {\n",
       "                    --jp-layout-color3: #383838;\n",
       "                }\n",
       "\n",
       "                .geemap-colab {\n",
       "                    background-color: var(--colab-primary-surface-color, white);\n",
       "                }\n",
       "\n",
       "                .geemap-colab .jupyter-button {\n",
       "                    --jp-layout-color3: var(--colab-primary-surface-color, white);\n",
       "                }\n",
       "            </style>\n",
       "            "
      ],
      "text/plain": [
       "<IPython.core.display.HTML object>"
      ]
     },
     "metadata": {},
     "output_type": "display_data"
    },
    {
     "name": "stdout",
     "output_type": "stream",
     "text": [
      "Export task for lst_day_monthly started.\n"
     ]
    }
   ],
   "source": [
    "def export_time_series_to_drive(\n",
    "    collection, \n",
    "    region, \n",
    "    scale=1000, \n",
    "    export_folder='RGEE', \n",
    "    export_filename='lst_day_monthly',\n",
    "    reducer='mean'\n",
    "):\n",
    "    \"\"\"\n",
    "    Extracts time series as FeatureCollection and exports to Google Drive as CSV.\n",
    "    Supports reducer options: 'mean', 'sum', 'min', 'max', 'median'.\n",
    "    \"\"\"\n",
    "    # Select reducer\n",
    "    if reducer == 'mean':\n",
    "        ee_reducer = ee.Reducer.mean()\n",
    "    elif reducer == 'sum':\n",
    "        ee_reducer = ee.Reducer.sum()\n",
    "    elif reducer == 'min':\n",
    "        ee_reducer = ee.Reducer.min()\n",
    "    elif reducer == 'max':\n",
    "        ee_reducer = ee.Reducer.max()\n",
    "    elif reducer == 'median':\n",
    "        ee_reducer = ee.Reducer.median()\n",
    "    else:\n",
    "        raise ValueError(f\"Unsupported reducer: {reducer}\")\n",
    "\n",
    "    def extract(img):\n",
    "        stats = img.reduceRegion(ee_reducer, region, scale, maxPixels=1e13)\n",
    "        return ee.Feature(None, stats).set('date', img.date().format('YYYY-MM-dd'))\n",
    "    timeseries_fc = collection.map(extract)\n",
    "    task = ee.batch.Export.table.toDrive(\n",
    "        collection=timeseries_fc,\n",
    "        description=f'{export_filename}_CSV',\n",
    "        folder=export_folder,\n",
    "        fileNamePrefix=export_filename,\n",
    "        fileFormat='CSV'\n",
    "    )\n",
    "    task.start()\n",
    "    print(f\"Export task for {export_filename} started.\")\n",
    "\n",
    "# Example usage:\n",
    "export_time_series_to_drive(monthly_lst, roi, scale=1000, reducer='mean')"
   ]
  },
  {
   "cell_type": "code",
   "execution_count": null,
   "id": "d1b8a491",
   "metadata": {},
   "outputs": [],
   "source": [
    "def export_time_series_to_drive(collection, region, scale=1000, export_folder='GEE_exports', export_filename='modis_lst_day_monthly'):\n",
    "    \"\"\"\n",
    "    Extracts time series as FeatureCollection and exports to Google Drive as CSV.\n",
    "    \"\"\"\n",
    "    def extract(img):\n",
    "        stats = img.reduceRegion(ee.Reducer.mean(), region, scale, maxPixels=1e13)\n",
    "        return ee.Feature(None, stats).set('date', img.date().format('YYYY-MM-dd'))\n",
    "    timeseries_fc = collection.map(extract)\n",
    "    task = ee.batch.Export.table.toDrive(\n",
    "        collection=timeseries_fc,\n",
    "        description=f'{export_filename}_CSV',\n",
    "        folder=export_folder,\n",
    "        fileNamePrefix=export_filename,\n",
    "        fileFormat='CSV'\n",
    "    )\n",
    "    task.start()\n",
    "    print(f\"Export task for {export_filename} started.\")\n",
    "\n",
    "# Example usage:\n",
    "export_time_series_to_drive(monthly_lst, roi, scale=1000)"
   ]
  },
  {
   "cell_type": "markdown",
   "id": "ddd6bfe6",
   "metadata": {},
   "source": [
    "## improved4"
   ]
  },
  {
   "cell_type": "code",
   "execution_count": null,
   "id": "d44c9320",
   "metadata": {},
   "outputs": [
    {
     "data": {
      "text/html": [
       "\n",
       "            <style>\n",
       "                .geemap-dark {\n",
       "                    --jp-widgets-color: white;\n",
       "                    --jp-widgets-label-color: white;\n",
       "                    --jp-ui-font-color1: white;\n",
       "                    --jp-layout-color2: #454545;\n",
       "                    background-color: #383838;\n",
       "                }\n",
       "\n",
       "                .geemap-dark .jupyter-button {\n",
       "                    --jp-layout-color3: #383838;\n",
       "                }\n",
       "\n",
       "                .geemap-colab {\n",
       "                    background-color: var(--colab-primary-surface-color, white);\n",
       "                }\n",
       "\n",
       "                .geemap-colab .jupyter-button {\n",
       "                    --jp-layout-color3: var(--colab-primary-surface-color, white);\n",
       "                }\n",
       "            </style>\n",
       "            "
      ],
      "text/plain": [
       "<IPython.core.display.HTML object>"
      ]
     },
     "metadata": {},
     "output_type": "display_data"
    }
   ],
   "source": [
    "def extract_time_series_to_df(collection, band_names, region=None, scale=1000, reducer='mean'):\n",
    "    \"\"\"Convert Earth Engine image collection to pandas DataFrame with reducer option\"\"\"\n",
    "    if region is None:\n",
    "        region = roi  # Ensure you have defined roi in your script\n",
    "\n",
    "    # Select reducer\n",
    "    if reducer == 'mean':\n",
    "        ee_reducer = ee.Reducer.mean()\n",
    "    elif reducer == 'sum':\n",
    "        ee_reducer = ee.Reducer.sum()\n",
    "    elif reducer == 'min':\n",
    "        ee_reducer = ee.Reducer.min()\n",
    "    elif reducer == 'max':\n",
    "        ee_reducer = ee.Reducer.max()\n",
    "    elif reducer == 'median':\n",
    "        ee_reducer = ee.Reducer.median()\n",
    "    else:\n",
    "        raise ValueError(f\"Unsupported reducer: {reducer}\")\n",
    "\n",
    "    def extract(img):\n",
    "        stats = img.reduceRegion(ee_reducer, region, scale, maxPixels=1e13)\n",
    "        return ee.Feature(None, stats).set('date', img.get('system:time_start'))\n",
    "\n",
    "    features = collection.map(extract)\n",
    "    data = features.getInfo()['features']\n",
    "\n",
    "    # Convert the extracted data to a pandas DataFrame\n",
    "    df = pd.DataFrame([\n",
    "        {'date': pd.to_datetime(f['properties']['date'], unit='ms'),\n",
    "         **{k: v for k, v in f['properties'].items() if k != 'date'}}\n",
    "        for f in data\n",
    "    ])\n",
    "\n",
    "    # Add missing bands\n",
    "    for band in band_names:\n",
    "        if band not in df.columns:\n",
    "            df[band] = np.nan\n",
    "\n",
    "    return df\n",
    "\n",
    "# --------------------------------------\n",
    "# 5. Drive Time Series and Export\n",
    "# --------------------------------------\n",
    "def extract_time_series_to_drive(collection, band_names, region, scale, export_folder='RGEE', export_filename_prefix='time_series_data'):\n",
    "    def extract(img):\n",
    "        stats = img.reduceRegion(\n",
    "            reducer=ee.Reducer.mean(),\n",
    "            geometry=region,\n",
    "            scale=scale,\n",
    "            maxPixels=1e13\n",
    "        )\n",
    "        stats = ee.Dictionary(stats)\n",
    "\n",
    "        # Ensure all band names are present in the output, fill missing with None\n",
    "        full_stats = ee.Dictionary.fromLists(\n",
    "            band_names,\n",
    "            ee.List(band_names).map(lambda b: stats.get(b, None))\n",
    "        )\n",
    "\n",
    "        return ee.Feature(None, full_stats).set('date', img.date().format('YYYY-MM-dd'))\n",
    "\n",
    "    # Extract time series as a FeatureCollection\n",
    "    timeseries_fc = collection.map(extract)\n",
    "\n",
    "    # Export to Google Drive\n",
    "    task = ee.batch.Export.table.toDrive(\n",
    "        collection=timeseries_fc,\n",
    "        description=f'{export_filename_prefix}_CSV',\n",
    "        folder=export_folder,\n",
    "        fileNamePrefix=export_filename_prefix,\n",
    "        fileFormat='CSV'\n",
    "    )\n",
    "    \n",
    "    task.start()\n",
    "    print(f\"Export task for {export_filename_prefix} started.\")\n",
    "\n",
    "#\n"
   ]
  },
  {
   "cell_type": "code",
   "execution_count": 20,
   "id": "58751e07",
   "metadata": {},
   "outputs": [
    {
     "data": {
      "text/html": [
       "\n",
       "            <style>\n",
       "                .geemap-dark {\n",
       "                    --jp-widgets-color: white;\n",
       "                    --jp-widgets-label-color: white;\n",
       "                    --jp-ui-font-color1: white;\n",
       "                    --jp-layout-color2: #454545;\n",
       "                    background-color: #383838;\n",
       "                }\n",
       "\n",
       "                .geemap-dark .jupyter-button {\n",
       "                    --jp-layout-color3: #383838;\n",
       "                }\n",
       "\n",
       "                .geemap-colab {\n",
       "                    background-color: var(--colab-primary-surface-color, white);\n",
       "                }\n",
       "\n",
       "                .geemap-colab .jupyter-button {\n",
       "                    --jp-layout-color3: var(--colab-primary-surface-color, white);\n",
       "                }\n",
       "            </style>\n",
       "            "
      ],
      "text/plain": [
       "<IPython.core.display.HTML object>"
      ]
     },
     "metadata": {},
     "output_type": "display_data"
    },
    {
     "data": {
      "application/vnd.microsoft.datawrangler.viewer.v0+json": {
       "columns": [
        {
         "name": "index",
         "rawType": "int64",
         "type": "integer"
        },
        {
         "name": "date",
         "rawType": "datetime64[ns]",
         "type": "datetime"
        },
        {
         "name": "LST_Day_1km",
         "rawType": "float64",
         "type": "float"
        }
       ],
       "conversionMethod": "pd.DataFrame",
       "ref": "863962ba-4123-4336-9c68-8ea7cb85af5e",
       "rows": [
        [
         "0",
         "2018-01-01 00:00:00",
         "295.67614857058874"
        ],
        [
         "1",
         "2018-02-01 00:00:00",
         "300.4080248570764"
        ],
        [
         "2",
         "2018-03-01 00:00:00",
         "303.67767649847764"
        ],
        [
         "3",
         "2018-04-01 00:00:00",
         "303.3110433023257"
        ],
        [
         "4",
         "2018-05-01 00:00:00",
         "300.33196716021035"
        ],
        [
         "5",
         "2018-06-01 00:00:00",
         "301.7850728346734"
        ],
        [
         "6",
         "2018-07-01 00:00:00",
         "302.11510059700953"
        ],
        [
         "7",
         "2018-08-01 00:00:00",
         "299.85792250549093"
        ],
        [
         "8",
         "2018-09-01 00:00:00",
         "302.64264969639925"
        ],
        [
         "9",
         "2018-10-01 00:00:00",
         "300.6968925498507"
        ],
        [
         "10",
         "2018-11-01 00:00:00",
         "299.51799738437694"
        ],
        [
         "11",
         "2018-12-01 00:00:00",
         "297.4362250356581"
        ],
        [
         "12",
         "2019-01-01 00:00:00",
         "297.9467205950869"
        ],
        [
         "13",
         "2019-02-01 00:00:00",
         "299.81899365319555"
        ],
        [
         "14",
         "2019-03-01 00:00:00",
         "302.67013944469335"
        ],
        [
         "15",
         "2019-04-01 00:00:00",
         "304.4082010034929"
        ],
        [
         "16",
         "2019-05-01 00:00:00",
         "303.56900762886005"
        ],
        [
         "17",
         "2019-06-01 00:00:00",
         "301.3795963983684"
        ],
        [
         "18",
         "2019-07-01 00:00:00",
         "302.62592775312163"
        ],
        [
         "19",
         "2019-08-01 00:00:00",
         "302.3244650717426"
        ],
        [
         "20",
         "2019-09-01 00:00:00",
         "301.81330047494583"
        ],
        [
         "21",
         "2019-10-01 00:00:00",
         "301.38257269707987"
        ],
        [
         "22",
         "2019-11-01 00:00:00",
         "300.0182213515385"
        ],
        [
         "23",
         "2019-12-01 00:00:00",
         "296.9979170727133"
        ],
        [
         "24",
         "2020-01-01 00:00:00",
         "295.6250551115679"
        ],
        [
         "25",
         "2020-02-01 00:00:00",
         "299.4038248703033"
        ],
        [
         "26",
         "2020-03-01 00:00:00",
         "304.66407289468134"
        ],
        [
         "27",
         "2020-04-01 00:00:00",
         "304.1210867149026"
        ],
        [
         "28",
         "2020-05-01 00:00:00",
         "305.0283516345045"
        ],
        [
         "29",
         "2020-06-01 00:00:00",
         "301.3807552712693"
        ],
        [
         "30",
         "2020-07-01 00:00:00",
         "300.6023688650382"
        ],
        [
         "31",
         "2020-08-01 00:00:00",
         "301.662294238208"
        ],
        [
         "32",
         "2020-09-01 00:00:00",
         "301.19512663216784"
        ],
        [
         "33",
         "2020-10-01 00:00:00",
         "301.60318481654195"
        ],
        [
         "34",
         "2020-11-01 00:00:00",
         "299.9830065933422"
        ],
        [
         "35",
         "2020-12-01 00:00:00",
         "297.20838380413335"
        ],
        [
         "36",
         "2021-01-01 00:00:00",
         "297.3804485109959"
        ],
        [
         "37",
         "2021-02-01 00:00:00",
         "300.4418468739293"
        ],
        [
         "38",
         "2021-03-01 00:00:00",
         "304.48554280751716"
        ],
        [
         "39",
         "2021-04-01 00:00:00",
         "306.1760817048764"
        ],
        [
         "40",
         "2021-05-01 00:00:00",
         "306.2343660716944"
        ],
        [
         "41",
         "2021-06-01 00:00:00",
         "301.28968229726956"
        ],
        [
         "42",
         "2021-07-01 00:00:00",
         "300.2042484268988"
        ],
        [
         "43",
         "2021-08-01 00:00:00",
         "300.41779993737686"
        ],
        [
         "44",
         "2021-09-01 00:00:00",
         "300.97652032544426"
        ],
        [
         "45",
         "2021-10-01 00:00:00",
         "300.9990217337209"
        ],
        [
         "46",
         "2021-11-01 00:00:00",
         "300.3178945963923"
        ],
        [
         "47",
         "2021-12-01 00:00:00",
         "296.86216496461344"
        ],
        [
         "48",
         "2022-01-01 00:00:00",
         "296.1082479703664"
        ],
        [
         "49",
         "2022-02-01 00:00:00",
         "299.1679473286799"
        ]
       ],
       "shape": {
        "columns": 2,
        "rows": 61
       }
      },
      "text/html": [
       "<div>\n",
       "<style scoped>\n",
       "    .dataframe tbody tr th:only-of-type {\n",
       "        vertical-align: middle;\n",
       "    }\n",
       "\n",
       "    .dataframe tbody tr th {\n",
       "        vertical-align: top;\n",
       "    }\n",
       "\n",
       "    .dataframe thead th {\n",
       "        text-align: right;\n",
       "    }\n",
       "</style>\n",
       "<table border=\"1\" class=\"dataframe\">\n",
       "  <thead>\n",
       "    <tr style=\"text-align: right;\">\n",
       "      <th></th>\n",
       "      <th>date</th>\n",
       "      <th>LST_Day_1km</th>\n",
       "    </tr>\n",
       "  </thead>\n",
       "  <tbody>\n",
       "    <tr>\n",
       "      <th>0</th>\n",
       "      <td>2018-01-01</td>\n",
       "      <td>295.676149</td>\n",
       "    </tr>\n",
       "    <tr>\n",
       "      <th>1</th>\n",
       "      <td>2018-02-01</td>\n",
       "      <td>300.408025</td>\n",
       "    </tr>\n",
       "    <tr>\n",
       "      <th>2</th>\n",
       "      <td>2018-03-01</td>\n",
       "      <td>303.677676</td>\n",
       "    </tr>\n",
       "    <tr>\n",
       "      <th>3</th>\n",
       "      <td>2018-04-01</td>\n",
       "      <td>303.311043</td>\n",
       "    </tr>\n",
       "    <tr>\n",
       "      <th>4</th>\n",
       "      <td>2018-05-01</td>\n",
       "      <td>300.331967</td>\n",
       "    </tr>\n",
       "    <tr>\n",
       "      <th>...</th>\n",
       "      <td>...</td>\n",
       "      <td>...</td>\n",
       "    </tr>\n",
       "    <tr>\n",
       "      <th>56</th>\n",
       "      <td>2022-09-01</td>\n",
       "      <td>301.483399</td>\n",
       "    </tr>\n",
       "    <tr>\n",
       "      <th>57</th>\n",
       "      <td>2022-10-01</td>\n",
       "      <td>300.887924</td>\n",
       "    </tr>\n",
       "    <tr>\n",
       "      <th>58</th>\n",
       "      <td>2022-11-01</td>\n",
       "      <td>301.042101</td>\n",
       "    </tr>\n",
       "    <tr>\n",
       "      <th>59</th>\n",
       "      <td>2022-12-01</td>\n",
       "      <td>NaN</td>\n",
       "    </tr>\n",
       "    <tr>\n",
       "      <th>60</th>\n",
       "      <td>2023-01-01</td>\n",
       "      <td>NaN</td>\n",
       "    </tr>\n",
       "  </tbody>\n",
       "</table>\n",
       "<p>61 rows × 2 columns</p>\n",
       "</div>"
      ],
      "text/plain": [
       "         date  LST_Day_1km\n",
       "0  2018-01-01   295.676149\n",
       "1  2018-02-01   300.408025\n",
       "2  2018-03-01   303.677676\n",
       "3  2018-04-01   303.311043\n",
       "4  2018-05-01   300.331967\n",
       "..        ...          ...\n",
       "56 2022-09-01   301.483399\n",
       "57 2022-10-01   300.887924\n",
       "58 2022-11-01   301.042101\n",
       "59 2022-12-01          NaN\n",
       "60 2023-01-01          NaN\n",
       "\n",
       "[61 rows x 2 columns]"
      ]
     },
     "execution_count": 20,
     "metadata": {},
     "output_type": "execute_result"
    }
   ],
   "source": [
    "df_lst = extract_time_series_to_df(monthly_lst, ['LST_Day_1km'], region=roi, scale=1000, reducer='median')\n",
    "df_lst = extract_time_series_to_df(monthly_lst, ['LST_Day_1km'], region=roi, scale=1000, reducer='mean')\n",
    "df_lst.to_csv('modis_lst_day_monthly.csv', index=False)\n",
    "df_lst\n",
    "\n",
    "\n",
    "#Call the function to extract time series and export to Google Drive\n",
    "# extract_time_series_to_drive(monthly_lst, ['LST_Day_1km'], roi, scale=1000, export_folder='GEE_exports', export_filename_prefix='modis_lst_day_monthly')\n",
    "\n"
   ]
  },
  {
   "cell_type": "code",
   "execution_count": null,
   "id": "88b4607d",
   "metadata": {},
   "outputs": [],
   "source": []
  },
  {
   "cell_type": "code",
   "execution_count": null,
   "id": "4d5cb165",
   "metadata": {},
   "outputs": [],
   "source": []
  },
  {
   "cell_type": "code",
   "execution_count": null,
   "id": "5aa13aab",
   "metadata": {},
   "outputs": [],
   "source": []
  },
  {
   "cell_type": "code",
   "execution_count": null,
   "id": "a908e060",
   "metadata": {},
   "outputs": [],
   "source": []
  },
  {
   "cell_type": "code",
   "execution_count": null,
   "id": "873205ae",
   "metadata": {},
   "outputs": [],
   "source": []
  },
  {
   "cell_type": "code",
   "execution_count": null,
   "id": "fa4404ef",
   "metadata": {},
   "outputs": [],
   "source": []
  },
  {
   "cell_type": "code",
   "execution_count": null,
   "id": "9e6d7a84",
   "metadata": {},
   "outputs": [],
   "source": []
  },
  {
   "cell_type": "code",
   "execution_count": null,
   "id": "0eb40a26",
   "metadata": {},
   "outputs": [],
   "source": []
  },
  {
   "cell_type": "code",
   "execution_count": 9,
   "id": "bbb5cec3",
   "metadata": {},
   "outputs": [
    {
     "data": {
      "text/html": [
       "\n",
       "            <style>\n",
       "                .geemap-dark {\n",
       "                    --jp-widgets-color: white;\n",
       "                    --jp-widgets-label-color: white;\n",
       "                    --jp-ui-font-color1: white;\n",
       "                    --jp-layout-color2: #454545;\n",
       "                    background-color: #383838;\n",
       "                }\n",
       "\n",
       "                .geemap-dark .jupyter-button {\n",
       "                    --jp-layout-color3: #383838;\n",
       "                }\n",
       "\n",
       "                .geemap-colab {\n",
       "                    background-color: var(--colab-primary-surface-color, white);\n",
       "                }\n",
       "\n",
       "                .geemap-colab .jupyter-button {\n",
       "                    --jp-layout-color3: var(--colab-primary-surface-color, white);\n",
       "                }\n",
       "            </style>\n",
       "            "
      ],
      "text/plain": [
       "<IPython.core.display.HTML object>"
      ]
     },
     "metadata": {},
     "output_type": "display_data"
    },
    {
     "ename": "TypeError",
     "evalue": "extract_time_series_to_fc() got multiple values for argument 'region'",
     "output_type": "error",
     "traceback": [
      "\u001b[1;31m---------------------------------------------------------------------------\u001b[0m",
      "\u001b[1;31mTypeError\u001b[0m                                 Traceback (most recent call last)",
      "Cell \u001b[1;32mIn[9], line 1\u001b[0m\n\u001b[1;32m----> 1\u001b[0m df_lst \u001b[38;5;241m=\u001b[39m extract_time_series_to_fc(monthly_lst, [\u001b[38;5;124m'\u001b[39m\u001b[38;5;124mLST_Day_1km\u001b[39m\u001b[38;5;124m'\u001b[39m], region\u001b[38;5;241m=\u001b[39mroi, scale\u001b[38;5;241m=\u001b[39m\u001b[38;5;241m1000\u001b[39m)\n",
      "\u001b[1;31mTypeError\u001b[0m: extract_time_series_to_fc() got multiple values for argument 'region'"
     ]
    }
   ],
   "source": [
    "df_lst = extract_time_series_to_fc(monthly_lst, ['LST_Day_1km'], region=roi, scale=1000)\n"
   ]
  }
 ],
 "metadata": {
  "kernelspec": {
   "display_name": "maps",
   "language": "python",
   "name": "python3"
  },
  "language_info": {
   "codemirror_mode": {
    "name": "ipython",
    "version": 3
   },
   "file_extension": ".py",
   "mimetype": "text/x-python",
   "name": "python",
   "nbconvert_exporter": "python",
   "pygments_lexer": "ipython3",
   "version": "3.13.2"
  }
 },
 "nbformat": 4,
 "nbformat_minor": 5
}
